{
 "cells": [
  {
   "cell_type": "code",
   "execution_count": 58,
   "metadata": {},
   "outputs": [],
   "source": [
    "import numpy as np \n",
    "from ploting_tools import plot_hull, plot_sea\n",
    "import matplotlib.pyplot as plt\n"
   ]
  },
  {
   "cell_type": "markdown",
   "metadata": {},
   "source": [
    "Para calcular la fuerza de empuje resultante necesitamos por lo tanto calcular el area (volumen) de la porción del casco sumergida. El problema consta de dos subproblemas: \n",
    "\n",
    "- Encontrar la región sumergida para cada posición y orientación del casco ( y, theta ) \n",
    "\n",
    "- Calcular el área de una región dada. "
   ]
  },
  {
   "cell_type": "markdown",
   "metadata": {},
   "source": [
    "## Cálculo de la región sumergida\n",
    "\n",
    "Lo más cómodo es asumir que el nivel del mar es constante en $y=0$, con lo cual sólo tenemos que obtener la región:\n",
    "$$H_\\mathrm{sub}\\coloneqq\\left\\{(x,y)\\in H \\,\\text{tal que}\\,y\\le 0\\right\\}$$"
   ]
  },
  {
   "cell_type": "code",
   "execution_count": 59,
   "metadata": {},
   "outputs": [],
   "source": [
    "def close_region(points, N=20):\n",
    "    P = points[-1, :]\n",
    "    Q = points[ 0, :]\n",
    "    closing_points = P + np.outer(np.linspace(0,1,N),(Q - P))\n",
    "    return np.concatenate([points,closing_points])\n",
    "\n",
    "def move_hull(points, dy):\n",
    "    points[:,1] += dy\n",
    "    return points \n",
    "\n",
    "\n",
    "\n",
    "    \n",
    "\n",
    "\n",
    "\n",
    "def under_region(points, y_sea=0.):\n",
    "    x, y = points[:,0], points[:,1]\n",
    "    h_wet = points[ y <= y_sea]\n",
    "    return  close_region(h_wet)\n",
    "    "
   ]
  },
  {
   "cell_type": "code",
   "execution_count": null,
   "metadata": {},
   "outputs": [],
   "source": []
  },
  {
   "cell_type": "markdown",
   "metadata": {},
   "source": [
    "## Cálculo del area de una región simple\n",
    "\n",
    "### Teorema de Green\n",
    "Para calcular el área podemos aprovecharnos del [teorema de Green](https://es.wikipedia.org/wiki/Teorema_de_Green) \n",
    "$$\n",
    "\\oint_C  \\mathbf{F}\\cdot\\mathrm{d}\\mathbf{\\ell} =\\iint_S \\left(\\frac{\\partial F_y}{\\partial x}-\\frac{\\partial F_x}{\\partial y}\\right)\\,\\mathrm{d}S\n",
    "$$\n",
    "\n",
    "\n",
    "Basta con elegir $\\mathbf{F}$ tal que $\\frac{\\partial F_y}{\\partial x}-\\frac{\\partial F_x}{\\partial y}=1$ y tendremos que:\n",
    "$$\n",
    "\\mathrm{Area}\\left(S\\right)=\\oint_C  \\mathbf{F}\\cdot\\mathrm{d}\\mathbf{\\ell}\n",
    "$$\n",
    "\n",
    "Una opción es coger $\\mathbf{F}\\left(x,y\\right)=-\\frac{y}{2}\\mathbf{i}+\\frac{x}{2}\\mathbf{j}$"
   ]
  },
  {
   "cell_type": "code",
   "execution_count": 60,
   "metadata": {},
   "outputs": [
    {
     "name": "stdout",
     "output_type": "stream",
     "text": [
      " 3.14, should be:  3.14\n",
      " 37.67, should be:  37.70\n"
     ]
    }
   ],
   "source": [
    "import numpy as np \n",
    "\n",
    "\n",
    "\n",
    "def compute_area(points, open=False):\n",
    "    x, y = points \n",
    "    F_x = -y/2\n",
    "    F_y =  x/2\n",
    "\n",
    "    dx = np.diff(x)\n",
    "    dy = np.diff(y)\n",
    "\n",
    "    A = np.sum( F_x[1:] * dx + F_y[1:] * dy)\n",
    "\n",
    "    return np.abs(A)\n",
    "\n",
    "# Test with a circle\n",
    "R = 1 \n",
    "N = 100 \n",
    "th = np.linspace(0,2*np.pi,N)\n",
    "\n",
    "x = - R * np.sin(th)\n",
    "y =   R * np.cos(th)\n",
    "points = (x,y)\n",
    "print(f'{compute_area(points) : .2f}, should be: {np.pi*R**2 : .2f}')\n",
    "\n",
    "# Test with an ellipse\n",
    "a = 3\n",
    "b = 4 \n",
    "N = 100 \n",
    "th = np.linspace(0,2*np.pi,N)\n",
    "\n",
    "x = a * np.cos(th)\n",
    "y = b * np.sin(th)\n",
    "points = (x,y)\n",
    "print(f'{compute_area(points) : .2f}, should be: {np.pi*a*b : .2f}')\n",
    "\n"
   ]
  },
  {
   "cell_type": "code",
   "execution_count": 61,
   "metadata": {},
   "outputs": [],
   "source": [
    "# Test with a circle\n",
    "R = 1 \n",
    "N = 200 \n",
    "theta = np.linspace(0,2*np.pi,N)\n",
    "points = np.array([[-R*np.sin(th), R*np.cos(th)] for th in theta])"
   ]
  },
  {
   "cell_type": "code",
   "execution_count": 62,
   "metadata": {},
   "outputs": [
    {
     "data": {
      "image/png": "[encoded data removed]",
      "text/plain": [
       "<Figure size 640x480 with 1 Axes>"
      ]
     },
     "metadata": {},
     "output_type": "display_data"
    }
   ],
   "source": [
    "h = 0.5\n",
    "\n",
    "fig, ax = plt.subplots()\n",
    "plot_sea(h, ax)\n",
    "plot_hull(points, under_region=under_region(points,h),ax=ax)\n",
    "\n",
    "ax.axis('equal')\n",
    "plt.show()\n"
   ]
  },
  {
   "cell_type": "code",
   "execution_count": null,
   "metadata": {},
   "outputs": [],
   "source": []
  },
  {
   "cell_type": "code",
   "execution_count": null,
   "metadata": {},
   "outputs": [],
   "source": []
  },
  {
   "cell_type": "code",
   "execution_count": null,
   "metadata": {},
   "outputs": [],
   "source": []
  }
 ],
 "metadata": {
  "kernelspec": {
   "display_name": "Python 3",
   "language": "python",
   "name": "python3"
  },
  "language_info": {
   "codemirror_mode": {
    "name": "ipython",
    "version": 3
   },
   "file_extension": ".py",
   "mimetype": "text/x-python",
   "name": "python",
   "nbconvert_exporter": "python",
   "pygments_lexer": "ipython3",
   "version": "3.11.8"
  },
  "orig_nbformat": 4
 },
 "nbformat": 4,
 "nbformat_minor": 2
}
