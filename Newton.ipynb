{
 "cells": [
  {
   "cell_type": "code",
   "execution_count": 2,
   "metadata": {},
   "outputs": [],
   "source": [
    "import numpy as np\n",
    "import matplotlib.pyplot as plt "
   ]
  },
  {
   "cell_type": "markdown",
   "metadata": {},
   "source": [
    "# Dynamics of a particle"
   ]
  },
  {
   "cell_type": "markdown",
   "metadata": {},
   "source": [
    "$$\n",
    "\\sum \\mathbf{F}_i = m \\mathbf{a}\n",
    "$$"
   ]
  },
  {
   "cell_type": "code",
   "execution_count": 33,
   "metadata": {},
   "outputs": [],
   "source": [
    "class state:\n",
    "    def __init__( self, position, velocity):\n",
    "        if len(position) != len(velocity):\n",
    "            raise ValueError(f\"position {position} and velocity {velocity} must have the same dimensions\")\n",
    "\n",
    "        self.position = position\n",
    "        self.velocity = velocity \n",
    "\n",
    "class particle:\n",
    "    def __init__( self, mass, state ):\n",
    "        if mass <= 0:\n",
    "            raise ValueError( f\"Particle mass should be strictly positive. Received: {mass}\")\n",
    "        self.mass = mass\n",
    "        self.state = state\n",
    "\n",
    "    def evolve(self, force, dt):\n",
    "        m = self.mass\n",
    "        x = self.state.position\n",
    "        v = self.state.velocity\n",
    "        F = force\n",
    "\n",
    "        self.state.position += v*dt\n",
    "        self.state.v += F( x, v ) / m * dt"
   ]
  },
  {
   "cell_type": "code",
   "execution_count": 40,
   "metadata": {},
   "outputs": [],
   "source": [
    "def F(x, v):\n",
    "    return -x"
   ]
  },
  {
   "cell_type": "code",
   "execution_count": null,
   "metadata": {},
   "outputs": [],
   "source": [
    "t = np.linspace(0,10,1000)\n",
    "dt = t[1]-t[0]\n",
    "x = np.zeros_like(t)\n",
    "v = np.zeros_like(t)\n",
    "x[0] = 1\n",
    "v[0] = 0\n",
    "M = 2\n",
    "\n",
    "p = particle( M, state( (x[0],), (v[0],)) )\n"
   ]
  }
 ],
 "metadata": {
  "kernelspec": {
   "display_name": "Python 3",
   "language": "python",
   "name": "python3"
  },
  "language_info": {
   "codemirror_mode": {
    "name": "ipython",
    "version": 3
   },
   "file_extension": ".py",
   "mimetype": "text/x-python",
   "name": "python",
   "nbconvert_exporter": "python",
   "pygments_lexer": "ipython3",
   "version": "3.11.4"
  },
  "orig_nbformat": 4
 },
 "nbformat": 4,
 "nbformat_minor": 2
}
