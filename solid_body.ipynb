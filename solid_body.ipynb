{
 "cells": [
  {
   "cell_type": "code",
   "execution_count": 3,
   "metadata": {},
   "outputs": [],
   "source": [
    "import matplotlib.pyplot as plt \n",
    "import numpy as np "
   ]
  },
  {
   "cell_type": "code",
   "execution_count": 1,
   "metadata": {},
   "outputs": [],
   "source": [
    "class vec2d:\n",
    "    def __init__(self, x : float, y : float):\n",
    "        self.x = x \n",
    "        self.y = y \n",
    "    \n",
    "    \n",
    "\n",
    "\n",
    "class solid_state_2D:\n",
    "    def __init__(self, r : vec2d, theta : float, v : vec2d,  w : float):\n",
    "        self.r = r\n",
    "        self.theta = theta\n",
    "        self.v = v \n",
    "        self.w = w \n",
    "    "
   ]
  },
  {
   "cell_type": "code",
   "execution_count": null,
   "metadata": {},
   "outputs": [],
   "source": [
    "def plot_boat( r : float, theta : float) : \n",
    "    "
   ]
  }
 ],
 "metadata": {
  "kernelspec": {
   "display_name": "Python 3",
   "language": "python",
   "name": "python3"
  },
  "language_info": {
   "codemirror_mode": {
    "name": "ipython",
    "version": 3
   },
   "file_extension": ".py",
   "mimetype": "text/x-python",
   "name": "python",
   "nbconvert_exporter": "python",
   "pygments_lexer": "ipython3",
   "version": "3.11.7"
  }
 },
 "nbformat": 4,
 "nbformat_minor": 2
}
